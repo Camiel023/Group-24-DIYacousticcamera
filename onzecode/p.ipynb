{
 "cells": [
  {
   "cell_type": "markdown",
   "metadata": {},
   "source": [
    "NOTE: DEZE CODE IS NOG NIET VOLLEDIG. We willen twee hoeken ($\\theta$ en $\\varphi$) meten met behulp van een tweetal microfoons op dezelfde rij ($\\theta$) een een tweetal op dezelfde kolom ($\\varphi$), terwijl deze code je maar één hoek geeft op basis van één paar. De code voor beide hoeken is identiek, maar er moeten nog kleine aanpassingen worden gemaakt in het tweede deel van de code."
   ]
  },
  {
   "cell_type": "markdown",
   "metadata": {},
   "source": [
    "TOEGEVOEGDE NOTE: Vermoedelijk zit er een fout in dtime bepalen. Verder doet de code wat hij moet doen (behalve dat de waarde niet in het domein van arccos zit, maar dat komt door de fout in dtime). Check github onzecode/toevoeging.jpg voor extra informatie."
   ]
  },
  {
   "cell_type": "markdown",
   "metadata": {},
   "source": [
    "De code bestaat uit twee delen. Het eerste deel doet de meting en alle setup. Het tweede deel berekend de hoeken. Onderscheid tussen de delen is gemaakt zodat we niet een aparte meting hoeven te doen per hoek. We hebben op deze manier genoeg aan één meting."
   ]
  },
  {
   "cell_type": "markdown",
   "metadata": {},
   "source": [
    "DEEL 1: Run onderstaande code om een meting te doen. Pas de geluidssnelheid (v) en de afstanden tussen de microfoons (d) onderin dit code-blok aan zoals gewenst. "
   ]
  },
  {
   "cell_type": "code",
   "execution_count": null,
   "metadata": {},
   "outputs": [],
   "source": [
    "#>>>>FINDING AUDIO DEVICE\n",
    "import sounddevice as sd\n",
    "\n",
    "indev = sd.query_devices(\"UMA16v2\")\n",
    "print(f\"Found input device {indev}\")\n",
    "\n",
    "#>>>>>SETTINGS\n",
    "freq = 44000 #frequency\n",
    "nchan = 16 #number of channels\n",
    "sd.default.samplerate = freq\n",
    "sd.default.channels = nchan\n",
    "sd.default.device = 1 #this can be different. print sd.query_devices() to check.\n",
    "\n",
    "#>>>>>RECORD\n",
    "import numpy as np\n",
    "\n",
    "npt = 220000 #total number of measurements per channel (TIME * FREQ)\n",
    "dur = npt/freq\n",
    "\n",
    "print(\">>> Start recording for %5.2fs (%d samples per channel)\" % (dur,npt))\n",
    "rec = sd.rec(npt)\n",
    "sd.wait()\n",
    "untransposed = np.array(rec)\n",
    "arec = np.transpose(untransposed) #<<-- THIS IS OUR DATA\n",
    "print(\">>> Done (%s x %s samples)\" % (str(np.shape(arec)[0]), str(np.shape(arec)[1])))\n",
    "\n",
    "#APPLYING FILTER\n",
    "import scipy.signal as sps\n",
    "\n",
    "def BandpassFilter(samples, freq, center_freq, width, order=5):\n",
    "    nyquist = freq / 2\n",
    "    low  = (center_freq - width/2) / nyquist\n",
    "    high = (center_freq + width/2) / nyquist\n",
    "    b, a = sps.butter(order, [low, high], btype='band')\n",
    "    return sps.filtfilt(b, a, samples)\n",
    "\n",
    "outsmp = np.zeros((npt, 16))\n",
    "for i in range(0, 16):\n",
    "    outsmp[i, :] = BandpassFilter(arec[i, :], freq, 1911, 100) #outsmp is the filtered data!\n",
    "\n",
    "#CALCULATING THE TIME DIFFERENCE\n",
    "def time_difference(mic1index, mic2index, arec, freq): #<<-- use 1-index\n",
    "    #difference in datapoints\n",
    "\n",
    "    maxmic1 = max(arec[mic1index - 1])\n",
    "    dp1 = np.where(arec[mic1index - 1] == maxmic1)[0][0]\n",
    "    maxmic2 = max(arec[mic2index - 1])\n",
    "    dp2 = np.where([mic2index - 1] == maxmic2)\n",
    "    dpd = dp1 - dp2 #<<-- NOTE1 THE SIGNIFICANE OF THE SIGN!\n",
    "\n",
    "    #time difference\n",
    "    dtime = dpd/freq\n",
    "    return dtime\n",
    "\n",
    "\n",
    "#CALCULATING THE ANGLE\n",
    "import math \n",
    "\n",
    "def angle(mic1index, mic2index, arec, freq):\n",
    "    v = 342.55 #speed of sound (m/s)\n",
    "    d = 0.042 #distance between mics (m)\n",
    "    theta = math.acos((v * time_difference(mic1index, mic2index, arec, freq))/d)\n",
    "    return theta\n"
   ]
  },
  {
   "cell_type": "markdown",
   "metadata": {},
   "source": [
    "DEEL 2: Pas \"EERSTE_MIC\" en \"TWEEDE_MIC\" aan. Merk op dat de volgorde uitmaakt voor de interpretatie van de hoek. Lees hiervoor de comment onderin de code."
   ]
  },
  {
   "cell_type": "markdown",
   "metadata": {},
   "source": [
    "HORIZONTAAL: Kies voor \"EERSTE_MIC_h\" en \"TWEEDE_MIC_h\" twee microfoons die in dezelfde rij liggen."
   ]
  },
  {
   "cell_type": "code",
   "execution_count": null,
   "metadata": {},
   "outputs": [],
   "source": [
    "EERSTE_MIC_h = 1 #in 1-index\n",
    "TWEEDE_MIC_h = 2 #in 1-index\n",
    "\n",
    "print(\"Deze hoek is \", angle(EERSTE_MIC_h, TWEEDE_MIC_h, outsmp, freq), \" radialen.\")\n",
    "\n",
    "#>>>>>>NOTEEEEEE: An angle theta should be interpreted as follows:\n",
    "#Draw a line between \"EERSTE_MIC\" and \"TWEEDE_MIC\". Rotate that line with *output* radians over \"EERSTE_MIC\". The line will point towards the source.\n"
   ]
  },
  {
   "cell_type": "markdown",
   "metadata": {},
   "source": [
    "VERTICAAL: Kies voor \"EERSTE_MIC_v\" en \"TWEEDE_MIC_v\" twee microfoons die in dezelfde kolom liggen."
   ]
  },
  {
   "cell_type": "code",
   "execution_count": null,
   "metadata": {},
   "outputs": [],
   "source": [
    "EERSTE_MIC_v = 1 #in 1-index\n",
    "TWEEDE_MIC_v = 2 #in 1-index\n",
    "\n",
    "print(\"Deze hoek is \", angle(EERSTE_MIC_h, TWEEDE_MIC_h, outsmp, freq), \" radialen.\")\n",
    "\n",
    "#>>>>>>NOTEEEEEE: An angle theta should be interpreted as follows:\n",
    "#Draw a line between \"EERSTE_MIC\" and \"TWEEDE_MIC\". Rotate that line with *output* radians over \"EERSTE_MIC\". The line will point towards the source."
   ]
  }
 ],
 "metadata": {
  "kernelspec": {
   "display_name": "base",
   "language": "python",
   "name": "python3"
  },
  "language_info": {
   "codemirror_mode": {
    "name": "ipython",
    "version": 3
   },
   "file_extension": ".py",
   "mimetype": "text/x-python",
   "name": "python",
   "nbconvert_exporter": "python",
   "pygments_lexer": "ipython3",
   "version": "3.9.12"
  }
 },
 "nbformat": 4,
 "nbformat_minor": 2
}
