{
 "cells": [
  {
   "cell_type": "markdown",
   "id": "3da8e746-641f-4d15-ac55-14663b1f9cc2",
   "metadata": {},
   "source": [
    "### Calculate delays between src and mic's\n",
    "R.Sprik 6/6/2024"
   ]
  },
  {
   "cell_type": "code",
   "execution_count": 1,
   "id": "74dce2fc-d3da-41fd-8f82-5b508521c0b9",
   "metadata": {},
   "outputs": [
    {
     "name": "stderr",
     "output_type": "stream",
     "text": [
      "Warning: Ignoring XDG_SESSION_TYPE=wayland on Gnome. Use QT_QPA_PLATFORM=wayland to run on Wayland anyway.\n"
     ]
    }
   ],
   "source": [
    "import numpy as np \n",
    "import matplotlib.pyplot as plt\n",
    "\n",
    "### select a working backend\n",
    "#%matplotlib widget \n",
    "%matplotlib qt5"
   ]
  },
  {
   "cell_type": "markdown",
   "id": "01187bf5-deb0-4a4b-b0a2-a5eb7caa1fa5",
   "metadata": {},
   "source": [
    "### position of single source and microphone"
   ]
  },
  {
   "cell_type": "code",
   "execution_count": 2,
   "id": "0080a3b1-4d78-4dd7-bf2e-7b48d8ba7615",
   "metadata": {},
   "outputs": [
    {
     "name": "stdout",
     "output_type": "stream",
     "text": [
      "mic [0. 0. 0.]\n",
      "src [0.  0.  0.5]\n",
      "dis 0.5\n"
     ]
    }
   ],
   "source": [
    "#position of single source and microphone, units meter\n",
    "pmic = np.array([0.0,0.0,0.0])  # xyz microphone\n",
    "psrc = np.array([0.0,0.0, 0.5]) #     point source\n",
    "\n",
    "def distance(psrc,pmic):\n",
    "    pdif = psrc-pmic\n",
    "    dd = np.linalg.norm(pdif)\n",
    "    return(dd)\n",
    "\n",
    "print(f\"mic {pmic}\")\n",
    "print(f\"src {psrc}\")\n",
    "\n",
    "dis = distance(psrc, pmic)\n",
    "print(f\"dis {dis}\")"
   ]
  },
  {
   "cell_type": "markdown",
   "id": "807a88b0-0c61-48b4-bea8-080888105217",
   "metadata": {},
   "source": [
    "### single source to square microphone array"
   ]
  },
  {
   "cell_type": "code",
   "execution_count": 11,
   "id": "f311d6f8-d71f-412b-9001-17b713879fbe",
   "metadata": {},
   "outputs": [
    {
     "name": "stdout",
     "output_type": "stream",
     "text": [
      "Mic positions\n",
      " [[[-0.063 -0.063  0.   ]\n",
      "  [-0.063 -0.021  0.   ]\n",
      "  [-0.063  0.021  0.   ]\n",
      "  [-0.063  0.063  0.   ]]\n",
      "\n",
      " [[-0.021 -0.063  0.   ]\n",
      "  [-0.021 -0.021  0.   ]\n",
      "  [-0.021  0.021  0.   ]\n",
      "  [-0.021  0.063  0.   ]]\n",
      "\n",
      " [[ 0.021 -0.063  0.   ]\n",
      "  [ 0.021 -0.021  0.   ]\n",
      "  [ 0.021  0.021  0.   ]\n",
      "  [ 0.021  0.063  0.   ]]\n",
      "\n",
      " [[ 0.063 -0.063  0.   ]\n",
      "  [ 0.063 -0.021  0.   ]\n",
      "  [ 0.063  0.021  0.   ]\n",
      "  [ 0.063  0.063  0.   ]]]\n",
      "\n",
      "Src to Mic distance:\n",
      " [[0.16351758 0.15234829 0.15234829 0.16351758]\n",
      " [0.13787676 0.12442669 0.12442669 0.13787676]\n",
      " [0.12169634 0.10621676 0.10621676 0.12169634]\n",
      " [0.11890332 0.10300485 0.10300485 0.11890332]]\n",
      "\n",
      "Resolution dt = 2.0833333333333333e-05s at 48000.0Hz sampling\n"
     ]
    },
    {
     "data": {
      "text/plain": [
       "'\\n#phase delays for a given frequency\\nplt.figure(50)\\nfreq = 1.0e3\\nlamb = vair/freq\\naphase = (adist/lamb)*360.0 #in degrees\\nplt.imshow(aphase)\\nplt.colorbar()\\nplt.title(f\"Phase (deg) at {freq}Hz (wavelength={lamb}m)\")\\nplt.show()\\n'"
      ]
     },
     "execution_count": 11,
     "metadata": {},
     "output_type": "execute_result"
    }
   ],
   "source": [
    "### source position\n",
    "psrc = np.array([0.05, 0.0, 0.1]) # xyz point source\n",
    "\n",
    "### square microphone array\n",
    "nx = 4; ny = 4\n",
    "apmic       = np.zeros((nx,ny,3))\n",
    "micsep      = 0.042  #distance between microphones in array\n",
    "zmicshft    = 0.0    #z-plane microphone array\n",
    "\n",
    "for ix in range(nx):\n",
    "    x = (ix-(nx-1)/2)*micsep\n",
    "    for iy in range(ny):\n",
    "        y = (iy-(ny-1)/2)*micsep\n",
    "        apmic[ix,iy,:]= [x,y,zmicshft]\n",
    "print(f\"Mic positions\\n {apmic}\")\n",
    "        \n",
    "# scatter plot of the mic array ans source\n",
    "plt.close(\"all\")\n",
    "fig = plt.figure(10)\n",
    "ax = fig.add_subplot(projection='3d')\n",
    "ax.scatter(apmic[:,:,0], apmic[:,:,1], apmic[:,:,2], marker='+')\n",
    "ax.scatter(psrc[0], psrc[1], psrc[2], marker='o')\n",
    "ax.set_xlabel('X (m)')\n",
    "ax.set_ylabel('Y (m)')\n",
    "ax.set_zlabel('Z (m)')\n",
    "plt.show() \n",
    "\n",
    "# calculate distance and plot\n",
    "adist = np.zeros((nx,ny))\n",
    "for ix in range(0,nx):\n",
    "    for iy in range(0,ny):\n",
    "        adist[ix,iy]= distance(apmic[ix,iy,:], psrc)\n",
    "print(f\"\\nSrc to Mic distance:\\n {adist}\")\n",
    "\n",
    "plt.figure(20)\n",
    "plt.imshow(adist)\n",
    "plt.colorbar()\n",
    "plt.title(\"Distance src to microphone array (m)\")\n",
    "plt.show()\n",
    "\n",
    "vair = 340.0  #speed of sound in air\n",
    "plt.figure(30)\n",
    "plt.imshow(adist/vair)\n",
    "plt.colorbar()\n",
    "plt.title(\"Delay src to microphone array (s)\")\n",
    "plt.show()\n",
    "\n",
    "#resolution at a sampling rate Fs\n",
    "Fs = 48000.0\n",
    "dt = 1/Fs\n",
    "print(f\"\\nResolution dt = {dt}s at {Fs}Hz sampling\")\n",
    "\n",
    "#delays in sample dt \n",
    "plt.figure(40)\n",
    "adeldt = (adist/vair)/dt  \n",
    "plt.imshow(adeldt)\n",
    "plt.colorbar()\n",
    "plt.title(f\"Delay in sample times at Fs={Fs} (Hz)\")\n",
    "plt.show()\n",
    "\n",
    "\"\"\"\n",
    "#phase delays for a given frequency\n",
    "plt.figure(50)\n",
    "freq = 1.0e3\n",
    "lamb = vair/freq\n",
    "aphase = (adist/lamb)*360.0 #in degrees\n",
    "plt.imshow(aphase)\n",
    "plt.colorbar()\n",
    "plt.title(f\"Phase (deg) at {freq}Hz (wavelength={lamb}m)\")\n",
    "plt.show()\n",
    "\"\"\""
   ]
  },
  {
   "cell_type": "code",
   "execution_count": null,
   "id": "d39fa1f5-e3f2-4b89-8d44-5fa6db9b54d4",
   "metadata": {},
   "outputs": [],
   "source": []
  }
 ],
 "metadata": {
  "kernelspec": {
   "display_name": "Python 3 (ipykernel)",
   "language": "python",
   "name": "python3"
  },
  "language_info": {
   "codemirror_mode": {
    "name": "ipython",
    "version": 3
   },
   "file_extension": ".py",
   "mimetype": "text/x-python",
   "name": "python",
   "nbconvert_exporter": "python",
   "pygments_lexer": "ipython3",
   "version": "3.11.7"
  }
 },
 "nbformat": 4,
 "nbformat_minor": 5
}
