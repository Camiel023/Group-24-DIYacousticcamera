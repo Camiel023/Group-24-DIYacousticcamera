{
 "cells": [
  {
   "cell_type": "code",
   "execution_count": 2,
   "id": "dcf53c1f-322c-484d-8b28-8ee3640b6e7f",
   "metadata": {},
   "outputs": [
    {
     "name": "stderr",
     "output_type": "stream",
     "text": [
      "[2:20:26.655703441] [5968] \u001b[1;32m INFO \u001b[1;37mCamera \u001b[1;34mcamera_manager.cpp:284 \u001b[0mlibcamera v0.2.0+120-eb00c13d\n",
      "[2:20:26.669403772] [5987] \u001b[1;32m INFO \u001b[1;37mRPI \u001b[1;34mpisp.cpp:695 \u001b[0mlibpisp version v1.0.5 999da5acb4f4 17-04-2024 (14:29:29)\n",
      "[2:20:26.682788565] [5987] \u001b[1;32m INFO \u001b[1;37mRPI \u001b[1;34mpisp.cpp:1154 \u001b[0mRegistered camera /base/axi/pcie@120000/rp1/i2c@88000/imx708@1a to CFE device /dev/media3 and ISP device /dev/media0 using PiSP variant BCM2712_C0\n",
      "[2:20:26.685112420] [5968] \u001b[1;32m INFO \u001b[1;37mCamera \u001b[1;34mcamera_manager.cpp:284 \u001b[0mlibcamera v0.2.0+120-eb00c13d\n",
      "[2:20:26.695991599] [5990] \u001b[1;32m INFO \u001b[1;37mRPI \u001b[1;34mpisp.cpp:695 \u001b[0mlibpisp version v1.0.5 999da5acb4f4 17-04-2024 (14:29:29)\n",
      "[2:20:26.710094300] [5990] \u001b[1;32m INFO \u001b[1;37mRPI \u001b[1;34mpisp.cpp:1154 \u001b[0mRegistered camera /base/axi/pcie@120000/rp1/i2c@88000/imx708@1a to CFE device /dev/media3 and ISP device /dev/media0 using PiSP variant BCM2712_C0\n",
      "[2:20:26.715030732] [5968] \u001b[1;33m WARN \u001b[1;37mV4L2 \u001b[1;34mv4l2_pixelformat.cpp:344 \u001b[0mUnsupported V4L2 pixel format RPBP\n",
      "[2:20:26.716776752] [5968] \u001b[1;32m INFO \u001b[1;37mCamera \u001b[1;34mcamera.cpp:1183 \u001b[0mconfiguring streams: (0) 1920x1440-BGR888 (1) 4608x2592-BGGR_PISP_COMP1\n",
      "[2:20:26.717231919] [5990] \u001b[1;32m INFO \u001b[1;37mRPI \u001b[1;34mpisp.cpp:1450 \u001b[0mSensor: /base/axi/pcie@120000/rp1/i2c@88000/imx708@1a - Selected sensor format: 4608x2592-SBGGR10_1X10 - Selected CFE format: 4608x2592-PC1B\n"
     ]
    },
    {
     "name": "stdout",
     "output_type": "stream",
     "text": [
      "capturing image testimage.jpg\n",
      "done.\n"
     ]
    }
   ],
   "source": [
    "from picamera2 import Picamera2\n",
    "import time\n",
    "import os\n",
    "\n",
    "camera = None\n",
    "\n",
    "def initialize_camera():\n",
    "    global camera\n",
    "    camera = Picamera2()\n",
    "    config = camera.create_still_configuration()\n",
    "    # config[\"main\"][\"size\"] = (4608, 2592)\n",
    "    config[\"main\"][\"size\"] = (1920, 1440)\n",
    "    camera.configure(config)\n",
    "\n",
    "def capture_image(filename: str):\n",
    "    filepath = os.path.expanduser(filename)\n",
    "    print(\"capturing image\", filepath)\n",
    "    camera.start()\n",
    "    time.sleep(0.5)\n",
    "    camera.capture_file(filepath)\n",
    "    camera.stop()\n",
    "    camera.close()\n",
    "\n",
    "# everloop.set(ledsgreen)\n",
    "initialize_camera()\n",
    "\n",
    "capture_image(\"testimage.jpg\")\n",
    "print(\"done.\")"
   ]
  },
  {
   "cell_type": "code",
   "execution_count": null,
   "id": "d9573199-293c-4d34-b58c-8396361a06c5",
   "metadata": {},
   "outputs": [],
   "source": []
  },
  {
   "cell_type": "code",
   "execution_count": null,
   "id": "9f6cf9d8-9324-4491-aaf2-b8aef1a19030",
   "metadata": {},
   "outputs": [],
   "source": []
  },
  {
   "cell_type": "code",
   "execution_count": null,
   "id": "3ff98a97-062e-4fe7-995e-aeacbc5fa0f9",
   "metadata": {},
   "outputs": [],
   "source": []
  },
  {
   "cell_type": "code",
   "execution_count": null,
   "id": "fcb6c412-6777-4df6-90c0-40bfd461b643",
   "metadata": {},
   "outputs": [],
   "source": []
  },
  {
   "cell_type": "code",
   "execution_count": null,
   "id": "02ac477a-8625-4979-bf87-feb34e8aef1f",
   "metadata": {},
   "outputs": [],
   "source": []
  },
  {
   "cell_type": "code",
   "execution_count": null,
   "id": "4b55045b-0c90-4ada-abd4-3e45b62dc63d",
   "metadata": {},
   "outputs": [],
   "source": []
  },
  {
   "cell_type": "code",
   "execution_count": null,
   "id": "af2c9890-c40f-4606-9b40-3926b43cffd5",
   "metadata": {},
   "outputs": [],
   "source": []
  },
  {
   "cell_type": "code",
   "execution_count": null,
   "id": "3aef6c81-7140-403c-83a7-8aa13439f3fd",
   "metadata": {},
   "outputs": [],
   "source": []
  }
 ],
 "metadata": {
  "kernelspec": {
   "display_name": "Python 3 (ipykernel)",
   "language": "python",
   "name": "python3"
  },
  "language_info": {
   "codemirror_mode": {
    "name": "ipython",
    "version": 3
   },
   "file_extension": ".py",
   "mimetype": "text/x-python",
   "name": "python",
   "nbconvert_exporter": "python",
   "pygments_lexer": "ipython3",
   "version": "3.11.2"
  }
 },
 "nbformat": 4,
 "nbformat_minor": 5
}
