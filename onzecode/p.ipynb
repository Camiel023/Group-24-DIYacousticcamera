{
 "cells": [
  {
   "cell_type": "markdown",
   "metadata": {},
   "source": [
    "NOTE: DEZE CODE IS NOG NIET VOLLEDIG. We willen twee hoeken ($\\theta$ en $\\varphi$) meten met behulp van een tweetal microfoons op dezelfde rij ($\\theta$) een een tweetal op dezelfde kolom ($\\varphi$), terwijl deze code je maar één hoek geeft op basis van één paar. De code voor beide hoeken is identiek, maar er moeten nog kleine aanpassingen worden gemaakt in het tweede deel van de code."
   ]
  },
  {
   "cell_type": "markdown",
   "metadata": {},
   "source": [
    "De code bestaat uit twee delen. Het eerste deel doet de meting en alle setup. Het tweede deel berekend de hoeken. Onderscheid tussen de delen is gemaakt zodat we niet een aparte meting hoeven te doen per hoek. We hebben op deze manier genoeg aan één meting."
   ]
  },
  {
   "cell_type": "markdown",
   "metadata": {},
   "source": [
    "DEEL 1: Run onderstaande code om een meting te doen. Pas de geluidssnelheid (v) en de afstanden tussen de microfoons (d) onderin dit code-blok aan zoals gewenst. "
   ]
  },
  {
   "cell_type": "code",
   "execution_count": 2,
   "metadata": {},
   "outputs": [
    {
     "name": "stdout",
     "output_type": "stream",
     "text": [
      "Hier komt code\n"
     ]
    }
   ],
   "source": [
    "#>>>>FINDING AUDIO DEVICE\n",
    "import sounddevice as sd\n",
    "\n",
    "indev = sd.query_devices(\"micArray16\")\n",
    "print(f\"Found input device {indev}\")\n",
    "\n",
    "#>>>>>SETTINGS\n",
    "freq = 44000 #frequency\n",
    "nchan = 16 #number of channels\n",
    "sd.default.samplerate = freq\n",
    "sd.default.channels = nchan\n",
    "sd.default.device = indev['index']\n",
    "\n",
    "#>>>>>RECORD\n",
    "import numpy as np\n",
    "\n",
    "npt = 220000 #total number of measurements per channel (TIME * FREQ)\n",
    "dur = npt/freq\n",
    "\n",
    "print(\">>> Start recording for %5.2fs (%d samples per channel)\" % (dur,npt))\n",
    "rec = sd.rec(npt)\n",
    "sd.wait()\n",
    "untransposed = np.array(rec)\n",
    "arec = np.transpose(untransposed) #<<-- THIS IS OUR DATA\n",
    "print(\">>> Done (%s x %s samples)\" % (str(np.shape(arec)[0]), str(np.shape(arec)[1])))\n",
    "\n",
    "#CALCULATING THE TIME DIFFERENCE\n",
    "def time_difference(mic1index, mic2index, arec, freq): #<<-- use 1-index\n",
    "    #difference in datapoints\n",
    "    maxmic1 = max(arec[mic1index])\n",
    "    dp1 = arec[mic1index].index(maxmic1)\n",
    "    maxmic2 = max(arec[mic2index])\n",
    "    dp2 = arec[mic2index].index(maxmic2)\n",
    "    dpd = dp1 - dp2 #<<-- NOTE1 THE SIGNIFICANE OF THE SIGN!\n",
    "\n",
    "    #time difference\n",
    "    dtime = dpd/freq\n",
    "    return dtime\n",
    "\n",
    "#CALCULATING THE ANGLE\n",
    "import math \n",
    "\n",
    "def angle(mic1index, mic2index, arec, freq):\n",
    "    v = 1 #speed of sound\n",
    "    d = 1 #distance between mics\n",
    "    theta = math.acos((v * time_difference(mic1index, mic2index, arec, freq))/d)\n",
    "    return theta\n"
   ]
  },
  {
   "cell_type": "markdown",
   "metadata": {},
   "source": [
    "DEEL 2: Pas \"EERSTE_MIC\" en \"TWEEDE_MIC\" aan. Merk op dat de volgorde uitmaakt voor de interpretatie van de hoek. Lees hiervoor de comment onderin de code."
   ]
  },
  {
   "cell_type": "code",
   "execution_count": null,
   "metadata": {},
   "outputs": [],
   "source": [
    "EERSTE_MIC = 1 #in 1-index\n",
    "TWEEDE_MIC = 2 #in 1-index\n",
    "\n",
    "print(\"Deze hoek is \", angle(EERSTE_MIC, TWEEDE_MIC, arec, freq), \" radialen.\")\n",
    "\n",
    "#>>>>>>NOTEEEEEE: An angle theta should be interpreted as follows:\n",
    "#Draw a line perpendicular to the surface of the microphone-array, through mic1. Choose the line-segment that is on the source-side of the surface. Now rotate the line-segment around mic1, towards mic2 around an angle of theta radians. The line segment will point towards the source."
   ]
  }
 ],
 "metadata": {
  "kernelspec": {
   "display_name": "base",
   "language": "python",
   "name": "python3"
  },
  "language_info": {
   "codemirror_mode": {
    "name": "ipython",
    "version": 3
   },
   "file_extension": ".py",
   "mimetype": "text/x-python",
   "name": "python",
   "nbconvert_exporter": "python",
   "pygments_lexer": "ipython3",
   "version": "3.9.12"
  }
 },
 "nbformat": 4,
 "nbformat_minor": 2
}
