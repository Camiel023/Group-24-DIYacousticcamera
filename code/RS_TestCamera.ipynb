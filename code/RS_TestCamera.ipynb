{
 "cells": [
  {
   "cell_type": "code",
   "execution_count": 2,
   "id": "dcf53c1f-322c-484d-8b28-8ee3640b6e7f",
   "metadata": {},
   "outputs": [
    {
     "name": "stderr",
     "output_type": "stream",
     "text": [
      "[1:28:02.419769201] [4563] \u001b[1;32m INFO \u001b[1;37mCamera \u001b[1;34mcamera_manager.cpp:284 \u001b[0mlibcamera v0.2.0+120-eb00c13d\n",
      "[1:28:02.432976108] [4570] \u001b[1;32m INFO \u001b[1;37mRPI \u001b[1;34mpisp.cpp:695 \u001b[0mlibpisp version v1.0.5 999da5acb4f4 17-04-2024 (14:29:29)\n",
      "[1:28:02.448156553] [4570] \u001b[1;32m INFO \u001b[1;37mRPI \u001b[1;34mpisp.cpp:1154 \u001b[0mRegistered camera /base/axi/pcie@120000/rp1/i2c@80000/imx708@1a to CFE device /dev/media2 and ISP device /dev/media0 using PiSP variant BCM2712_C0\n",
      "[1:28:02.450333405] [4563] \u001b[1;32m INFO \u001b[1;37mCamera \u001b[1;34mcamera_manager.cpp:284 \u001b[0mlibcamera v0.2.0+120-eb00c13d\n",
      "[1:28:02.462037812] [4573] \u001b[1;32m INFO \u001b[1;37mRPI \u001b[1;34mpisp.cpp:695 \u001b[0mlibpisp version v1.0.5 999da5acb4f4 17-04-2024 (14:29:29)\n",
      "[1:28:02.478178127] [4573] \u001b[1;32m INFO \u001b[1;37mRPI \u001b[1;34mpisp.cpp:1154 \u001b[0mRegistered camera /base/axi/pcie@120000/rp1/i2c@80000/imx708@1a to CFE device /dev/media2 and ISP device /dev/media0 using PiSP variant BCM2712_C0\n",
      "[1:28:02.486199442] [4563] \u001b[1;33m WARN \u001b[1;37mV4L2 \u001b[1;34mv4l2_pixelformat.cpp:344 \u001b[0mUnsupported V4L2 pixel format RPBP\n",
      "[1:28:02.487244719] [4563] \u001b[1;32m INFO \u001b[1;37mCamera \u001b[1;34mcamera.cpp:1183 \u001b[0mconfiguring streams: (0) 1920x1440-BGR888 (1) 4608x2592-BGGR_PISP_COMP1\n",
      "[1:28:02.487936997] [4573] \u001b[1;32m INFO \u001b[1;37mRPI \u001b[1;34mpisp.cpp:1450 \u001b[0mSensor: /base/axi/pcie@120000/rp1/i2c@80000/imx708@1a - Selected sensor format: 4608x2592-SBGGR10_1X10 - Selected CFE format: 4608x2592-PC1B\n"
     ]
    },
    {
     "name": "stdout",
     "output_type": "stream",
     "text": [
      "capturing image tttest.jpg\n",
      "done.\n"
     ]
    }
   ],
   "source": [
    "from picamera2 import Picamera2\n",
    "import time\n",
    "import os\n",
    "\n",
    "camera = None\n",
    "\n",
    "def initialize_camera():\n",
    "    global camera\n",
    "    camera = Picamera2()\n",
    "    config = camera.create_still_configuration()\n",
    "    # config[\"main\"][\"size\"] = (4608, 2592)\n",
    "    config[\"main\"][\"size\"] = (1920, 1440)\n",
    "    camera .configure(config)\n",
    "\n",
    "def capture_image(filename: str):\n",
    "    filepath = os.path.expanduser(filename)\n",
    "    print(\"capturing image\", filepath)\n",
    "    camera.start()\n",
    "    time.sleep(0.5)\n",
    "    camera.capture_file(filepath)\n",
    "    camera.stop()\n",
    "    camera.close()\n",
    "\n",
    "# everloop.set(ledsgreen)\n",
    "initialize_camera()\n",
    "capture_image(\"tttest.jpg\")\n",
    "print(\"done.\")"
   ]
  },
  {
   "cell_type": "code",
   "execution_count": null,
   "id": "f084fa3b-44d7-4ca0-b933-71a473a8acb7",
   "metadata": {},
   "outputs": [],
   "source": []
  }
 ],
 "metadata": {
  "kernelspec": {
   "display_name": "Python 3 (ipykernel)",
   "language": "python",
   "name": "python3"
  },
  "language_info": {
   "codemirror_mode": {
    "name": "ipython",
    "version": 3
   },
   "file_extension": ".py",
   "mimetype": "text/x-python",
   "name": "python",
   "nbconvert_exporter": "python",
   "pygments_lexer": "ipython3",
   "version": "3.11.7"
  }
 },
 "nbformat": 4,
 "nbformat_minor": 5
}
